{
 "cells": [
  {
   "cell_type": "code",
   "execution_count": null,
   "metadata": {},
   "outputs": [],
   "source": [
    "# Loading packages\n",
    "using LiteQTL\n",
    "using DelimitedFiles"
   ]
  },
  {
   "cell_type": "code",
   "execution_count": null,
   "metadata": {},
   "outputs": [],
   "source": [
    "# Location of genotype file and phenotype file\n",
    "geno_file = joinpath(@__DIR__, \"..\", \"data\", \"processed\", \"spleen-bxd-genoprob.csv\")\n",
    "pheno_file = joinpath(@__DIR__, \"..\", \"data\",\"processed\", \"spleen-pheno-nomissing.csv\")\n",
    "\n",
    "# Whether to output whole LOD matrix or only maximum LOD of each phenptype? Default is false (only maximum)\n",
    "export_matrix = false\n",
    "\n",
    "# Location of output \n",
    "output_file = \"output.csv\"\n",
    "\n",
    "# Setting BLAS threads as 16 threads. \n",
    "LiteQTL.set_blas_threads(16);\n",
    "\n",
    "# Read in data.\n",
    "G = LiteQTL.get_geno_data(geno_file, Float64)\n",
    "Y = LiteQTL.get_pheno_data(pheno_file, Float64, transposed=false)\n",
    "# getting geno and pheno file size.\n",
    "n = size(Y,1) # number of individuals\n",
    "m = size(Y,2) # number of markers\n",
    "p = size(G,2) # number of phenotypes\n",
    "println(\"******* Indivuduals n: $n, Traits m: $m, Markers p: $p ****************\");\n",
    "# run analysis. \n",
    "lod = LiteQTL.cpurun(Y, G,n,export_matrix);\n",
    "\n",
    "# Run this function multiple times to get a better benchmarking of timing. \n",
    "cpu_timing = benchmark(10, cpurun, Y, G,n,export_matrix);\n",
    "println(\"CPU timing: $(cpu_timing[3])\")\n",
    "\n",
    "# run the same function but with GPU: \n",
    "# lod = LiteQTL.gpurun(Y, G,n,m,p)\n",
    "\n",
    "# write output to file\n",
    "writedlm(joinpath(Base.@__DIR__, \"..\", \"data\", \"results\", output_file), lod, ',')\n",
    "\n"
   ]
  }
 ],
 "metadata": {
  "kernelspec": {
   "display_name": "Python 3",
   "language": "python",
   "name": "python3"
  },
  "language_info": {
   "codemirror_mode": {
    "name": "ipython",
    "version": 3
   },
   "file_extension": ".py",
   "mimetype": "text/x-python",
   "name": "python",
   "nbconvert_exporter": "python",
   "pygments_lexer": "ipython3",
   "version": "3.7.4"
  }
 },
 "nbformat": 4,
 "nbformat_minor": 2
}
