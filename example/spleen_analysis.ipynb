{
 "cells": [
  {
   "cell_type": "markdown",
   "metadata": {},
   "source": [
    "# Example of using LiteQTL"
   ]
  },
  {
   "cell_type": "markdown",
   "metadata": {},
   "source": [
    "This notebook showcase how to use LiteQTL to perform a QTL scan.\n",
    "\n",
    "### Dataset: \n",
    "We use the BXD Genotype Database (GN Accession: GN600) and a sets of transcriptome data, UTHSCAffy MoGene 1.0 ST Spleen (GN Accession: GN283) from GeneNetwork. \n",
    "\n",
    "The genotype file includes 7321 markers by 198 BXD strains; \n",
    "\n",
    "The spleen dataset has data for 79 BXD strains and for 35556 transcripts. \n",
    "\n",
    "Data cleaning and wrangling was performed using R/qtl (Broman et al. 2003) and R/qtl2 (Broman et al. 2019). \n",
    "\n",
    "For details regarding data cleaning, please see [this script](https://github.com/senresearch/LiteQTL-G3-supplement/blob/master/code/clean-data.R)"
   ]
  },
  {
   "cell_type": "code",
   "execution_count": 1,
   "metadata": {},
   "outputs": [
    {
     "name": "stderr",
     "output_type": "stream",
     "text": [
      "┌ Warning: no Manifest.toml file found, static paths used\n",
      "└ @ Revise /home/xiaoqihu/.julia/packages/Revise/moD4B/src/packagedef.jl:1361\n",
      "\u001b[32m\u001b[1m Activating\u001b[22m\u001b[39m environment at `/export/xiaoqihu/git/LiteQTL.jl/Project.toml`\n"
     ]
    }
   ],
   "source": [
    "using Revise\n",
    "using Pkg\n",
    "Pkg.activate(\"/export/xiaoqihu/git/LiteQTL.jl/\")"
   ]
  },
  {
   "cell_type": "code",
   "execution_count": 2,
   "metadata": {},
   "outputs": [],
   "source": [
    "# Loading packages\n",
    "using LiteQTL\n",
    "using DelimitedFiles\n",
    "using BenchmarkTools"
   ]
  },
  {
   "cell_type": "code",
   "execution_count": 3,
   "metadata": {},
   "outputs": [
    {
     "name": "stdout",
     "output_type": "stream",
     "text": [
      "\u001b[36m\u001b[1mProject \u001b[22m\u001b[39mLiteQTL v0.1.2\n",
      "\u001b[32m\u001b[1mNo Matches\u001b[22m\u001b[39m in `/export/xiaoqihu/git/LiteQTL.jl/Project.toml`\n"
     ]
    }
   ],
   "source": [
    "using Pkg \n",
    "Pkg.status(\"LiteQTL\")"
   ]
  },
  {
   "cell_type": "code",
   "execution_count": 4,
   "metadata": {},
   "outputs": [
    {
     "name": "stdout",
     "output_type": "stream",
     "text": [
      "Number of threads using: 16\n"
     ]
    },
    {
     "name": "stderr",
     "output_type": "stream",
     "text": [
      "┌ Info: Removing sex column of phenotype. \n",
      "└ @ LiteQTL /export/xiaoqihu/git/LiteQTL.jl/src/data_io.jl:29\n"
     ]
    },
    {
     "name": "stdout",
     "output_type": "stream",
     "text": [
      "******* Indivuduals n: 79, Traits m: 35554, Markers p: 7321 ****************\n"
     ]
    }
   ],
   "source": [
    "# Location of genotype file and phenotype file\n",
    "geno_file = joinpath(@__DIR__, \"..\", \"data\", \"processed\", \"spleen-bxd-genoprob.csv\")\n",
    "pheno_file = joinpath(@__DIR__, \"..\", \"data\",\"processed\", \"spleen-pheno-nomissing.csv\")\n",
    "\n",
    "# Whether to output whole LOD matrix or only maximum LOD of each phenptype? Default is false (only maximum)\n",
    "export_matrix = false\n",
    "\n",
    "# Location of output \n",
    "output_file = \"output.csv\"\n",
    "\n",
    "# Setting BLAS threads as 16 threads. \n",
    "LiteQTL.set_blas_threads(16);\n",
    "\n",
    "# Read in data.\n",
    "G = LiteQTL.get_geno_data(geno_file, Float64)\n",
    "Y = LiteQTL.get_pheno_data(pheno_file, Float64, transposed=false)\n",
    "# getting geno and pheno file size.\n",
    "n = size(Y,1) # number of individuals\n",
    "m = size(Y,2) # number of Traits\n",
    "p = size(G,2) # number of Markers\n",
    "println(\"******* Indivuduals n: $n, Traits m: $m, Markers p: $p ****************\");"
   ]
  },
  {
   "cell_type": "code",
   "execution_count": 6,
   "metadata": {},
   "outputs": [
    {
     "name": "stderr",
     "output_type": "stream",
     "text": [
      "┌ Info: Running genome scan...\n",
      "└ @ LiteQTL /export/xiaoqihu/git/LiteQTL.jl/src/cpu.jl:91\n",
      "┌ Info: Done calculating corelation coefficients.\n",
      "└ @ LiteQTL /export/xiaoqihu/git/LiteQTL.jl/src/cpu.jl:96\n"
     ]
    },
    {
     "name": "stdout",
     "output_type": "stream",
     "text": [
      "Calculating max lod\n"
     ]
    },
    {
     "name": "stderr",
     "output_type": "stream",
     "text": [
      "┌ Info: Done calculating LOD. \n",
      "└ @ LiteQTL /export/xiaoqihu/git/LiteQTL.jl/src/cpu.jl:100\n"
     ]
    }
   ],
   "source": [
    "# run genome scan. \n",
    "lod = LiteQTL.scan(Y, G,n;export_matrix);\n",
    "# @benchmark LiteQTL.scan(Y, G,n;export_matrix)"
   ]
  },
  {
   "cell_type": "code",
   "execution_count": 8,
   "metadata": {},
   "outputs": [
    {
     "data": {
      "text/plain": [
       "35554×2 Array{Float64,2}:\n",
       " 5046.0   2.03595\n",
       " 3111.0   2.74552\n",
       " 6631.0   2.38099\n",
       " 6632.0   3.03683\n",
       " 5326.0   2.6874\n",
       " 5326.0   2.93972\n",
       " 5325.0   3.40571\n",
       " 3120.0   2.73382\n",
       " 3214.0   1.93849\n",
       " 6631.0   2.45835\n",
       " 3111.0   2.96902\n",
       " 5326.0   2.58704\n",
       " 5326.0   1.90628\n",
       "    ⋮    \n",
       " 2975.0   1.69443\n",
       " 3111.0   4.3085\n",
       " 2110.0  15.6794\n",
       " 7255.0   1.97968\n",
       " 1808.0   2.48822\n",
       " 6546.0   2.85884\n",
       " 2110.0   3.24836\n",
       " 3717.0   2.21924\n",
       " 7136.0   2.22245\n",
       " 6647.0   4.70312\n",
       " 3085.0   2.76619\n",
       " 3549.0   1.7484"
      ]
     },
     "execution_count": 8,
     "metadata": {},
     "output_type": "execute_result"
    }
   ],
   "source": [
    "# Uncomment the following lines to run the same function but with GPU: \n",
    "# lod = LiteQTL.scan(Y, G, n; usegpu=true)\n",
    "# @benchmark LiteQTL.scan(Y, G, n; usegpu=true)"
   ]
  },
  {
   "cell_type": "code",
   "execution_count": 10,
   "metadata": {},
   "outputs": [
    {
     "name": "stderr",
     "output_type": "stream",
     "text": [
      "┌ Info: Running genome scan with covariates...\n",
      "└ @ LiteQTL /export/xiaoqihu/git/LiteQTL.jl/src/cpu.jl:44\n"
     ]
    },
    {
     "name": "stdout",
     "output_type": "stream",
     "text": [
      "Calculating max lod\n",
      " 12.552027 seconds (4.18 M allocations: 2.189 GiB, 6.16% gc time)\n"
     ]
    },
    {
     "data": {
      "text/plain": [
       "35552×2 Array{Float64,2}:\n",
       " 6631.0   2.22609\n",
       " 6633.0   2.93644\n",
       " 5326.0   2.70782\n",
       " 5326.0   2.4973\n",
       " 5325.0   3.79566\n",
       " 5325.0   1.91135\n",
       " 5405.0   2.20111\n",
       " 6631.0   2.49729\n",
       " 2107.0   2.10042\n",
       " 5326.0   2.37707\n",
       " 5326.0   2.02948\n",
       " 5326.0   2.0498\n",
       " 5326.0   1.98242\n",
       "    ⋮    \n",
       " 5758.0   1.90361\n",
       " 7315.0   2.62971\n",
       " 2110.0  18.2555\n",
       " 7255.0   1.99085\n",
       " 1808.0   2.43012\n",
       " 6547.0   2.69031\n",
       " 2110.0   3.2642\n",
       " 3719.0   3.03524\n",
       " 6981.0   2.45788\n",
       " 6647.0   4.58176\n",
       " 6621.0   2.24316\n",
       " 3057.0   1.95288"
      ]
     },
     "execution_count": 10,
     "metadata": {},
     "output_type": "execute_result"
    }
   ],
   "source": [
    "# run genome scan with covariates. \n",
    "# X is covariates\n",
    "# X = ones(size(pheno)[1]) # standard covariates\n",
    "\n",
    "# Use the first column of phenotype as covariates. \n",
    "X = reshape(Y[:,1], :,1) # make 1 column as a 2d matrix\n",
    "Y = Y[:,2:end]\n",
    "\n",
    "@time lod = LiteQTL.scan(Y, G, X, n; export_matrix)"
   ]
  },
  {
   "cell_type": "code",
   "execution_count": null,
   "metadata": {},
   "outputs": [],
   "source": [
    "# write output to file\n",
    "writedlm(joinpath(Base.@__DIR__, \"..\", \"data\", \"results\", output_file), lod, ',')"
   ]
  }
 ],
 "metadata": {
  "kernelspec": {
   "display_name": "Julia 1.5.3",
   "language": "julia",
   "name": "julia-1.5"
  },
  "language_info": {
   "file_extension": ".jl",
   "mimetype": "application/julia",
   "name": "julia",
   "version": "1.5.3"
  }
 },
 "nbformat": 4,
 "nbformat_minor": 2
}
