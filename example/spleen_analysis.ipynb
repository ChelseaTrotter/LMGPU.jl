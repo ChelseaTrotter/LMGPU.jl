{
 "cells": [
  {
   "cell_type": "markdown",
   "metadata": {},
   "source": [
    "# Example of using LiteQTL"
   ]
  },
  {
   "cell_type": "markdown",
   "metadata": {},
   "source": [
    "This notebook showcase how to use LiteQTL to perform a QTL scan.\n",
    "\n",
    "### Dataset: \n",
    "We use the BXD Genotype Database (GN Accession: GN600) and a sets of transcriptome data, UTHSCAffy MoGene 1.0 ST Spleen (GN Accession: GN283) from GeneNetwork. \n",
    "\n",
    "The genotype file includes 7321 markers by 198 BXD strains; \n",
    "\n",
    "The spleen dataset has data for 79 BXD strains and for 35556 transcripts. \n",
    "\n",
    "Data cleaning and wrangling was performed using R/qtl (Broman et al. 2003) and R/qtl2 (Broman et al. 2019). \n",
    "\n",
    "For details regarding data cleaning, please see [this script](https://github.com/senresearch/LiteQTL-G3-supplement/blob/master/code/clean-data.R)"
   ]
  },
  {
   "cell_type": "code",
   "execution_count": 6,
   "metadata": {},
   "outputs": [
    {
     "name": "stderr",
     "output_type": "stream",
     "text": [
      "┌ Info: Precompiling BenchmarkTools [6e4b80f9-dd63-53aa-95a3-0cdb28fa8baf]\n",
      "└ @ Base loading.jl:1278\n"
     ]
    }
   ],
   "source": [
    "# Loading packages\n",
    "using LiteQTL\n",
    "using DelimitedFiles\n",
    "using BenchmarkTools"
   ]
  },
  {
   "cell_type": "code",
   "execution_count": 3,
   "metadata": {},
   "outputs": [
    {
     "name": "stdout",
     "output_type": "stream",
     "text": [
      "Number of threads using: 16\n"
     ]
    },
    {
     "name": "stderr",
     "output_type": "stream",
     "text": [
      "┌ Info: Removing sex column of phenotype. \n",
      "└ @ LiteQTL /Users/chelseatrotter/.julia/dev/LiteQTL/src/data_io.jl:23\n"
     ]
    },
    {
     "name": "stdout",
     "output_type": "stream",
     "text": [
      "******* Indivuduals n: 79, Traits m: 35554, Markers p: 7321 ****************\n"
     ]
    }
   ],
   "source": [
    "# Location of genotype file and phenotype file\n",
    "geno_file = joinpath(@__DIR__, \"..\", \"data\", \"processed\", \"spleen-bxd-genoprob.csv\")\n",
    "pheno_file = joinpath(@__DIR__, \"..\", \"data\",\"processed\", \"spleen-pheno-nomissing.csv\")\n",
    "\n",
    "# Whether to output whole LOD matrix or only maximum LOD of each phenptype? Default is false (only maximum)\n",
    "export_matrix = false\n",
    "\n",
    "# Location of output \n",
    "output_file = \"output.csv\"\n",
    "\n",
    "# Setting BLAS threads as 16 threads. \n",
    "LiteQTL.set_blas_threads(16);\n",
    "\n",
    "# Read in data.\n",
    "G = LiteQTL.get_geno_data(geno_file, Float64)\n",
    "Y = LiteQTL.get_pheno_data(pheno_file, Float64, transposed=false)\n",
    "# getting geno and pheno file size.\n",
    "n = size(Y,1) # number of individuals\n",
    "m = size(Y,2) # number of Traits\n",
    "p = size(G,2) # number of Markers\n",
    "println(\"******* Indivuduals n: $n, Traits m: $m, Markers p: $p ****************\");"
   ]
  },
  {
   "cell_type": "code",
   "execution_count": null,
   "metadata": {},
   "outputs": [],
   "source": [
    "# run analysis. \n",
    "lod = LiteQTL.cpurun(Y, G,n,export_matrix);\n",
    "\n",
    "@benchmark LiteQTL.cpurun(Y, G,n,export_matrix)\n",
    "\n",
    "# Uncomment the following lines if want to run the same function but with GPU: \n",
    "# lod = LiteQTL.gpurun(Y, G,n,m,p)\n",
    "# @benchmark LiteQTL.gpurun(Y, G,n,m,p)"
   ]
  },
  {
   "cell_type": "code",
   "execution_count": null,
   "metadata": {},
   "outputs": [],
   "source": [
    "# write output to file\n",
    "writedlm(joinpath(Base.@__DIR__, \"..\", \"data\", \"results\", output_file), lod, ',')"
   ]
  }
 ],
 "metadata": {
  "kernelspec": {
   "display_name": "Julia 1.5.3",
   "language": "julia",
   "name": "julia-1.5"
  },
  "language_info": {
   "file_extension": ".jl",
   "mimetype": "application/julia",
   "name": "julia",
   "version": "1.5.3"
  }
 },
 "nbformat": 4,
 "nbformat_minor": 2
}
